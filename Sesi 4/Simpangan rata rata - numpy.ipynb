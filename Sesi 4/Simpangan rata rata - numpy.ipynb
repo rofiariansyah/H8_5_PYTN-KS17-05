{
 "cells": [
  {
   "cell_type": "code",
   "execution_count": 4,
   "id": "e5040bad-7d5b-4ccf-bf72-fa681d6b3a5b",
   "metadata": {
    "tags": []
   },
   "outputs": [],
   "source": [
    "import numpy as np"
   ]
  },
  {
   "cell_type": "markdown",
   "id": "3998f7f0-39e8-4e09-9784-d8be712b0ac0",
   "metadata": {},
   "source": [
    "Menggunakan np.mean(data) untuk menghitung rata-rata dari data."
   ]
  },
  {
   "cell_type": "markdown",
   "id": "19b875ea-c4e4-4d6b-9c9b-5dd035e4a7a1",
   "metadata": {},
   "source": [
    "Menggunakan np.sqrt() untuk menghitung akar kuadrat dari jumlah perbedaan kuadrat dan kemudian membaginya dengan jumlah elemen dalam data untuk mendapatkan simpangan rata-rata."
   ]
  },
  {
   "cell_type": "code",
   "execution_count": 24,
   "id": "de483348-4184-40ad-876b-914d45d7bbf0",
   "metadata": {
    "tags": []
   },
   "outputs": [],
   "source": [
    "def simpangan_rata2(data):\n",
    "    rata_rata = np.mean(data)\n",
    "    jumlah_perbedaan_kuadrat = sum((x - rata_rata) ** 2 for x in data)\n",
    "    simpangan_rata_rata = np.sqrt(jumlah_perbedaan_kuadrat / len(data))\n",
    "    return simpangan_rata_rata"
   ]
  },
  {
   "cell_type": "code",
   "execution_count": 27,
   "id": "f1379f87-fbfe-4fd6-8999-cc85a776fc3c",
   "metadata": {
    "tags": []
   },
   "outputs": [],
   "source": [
    "# Contoh data\n",
    "data = np.array([23,56,33,12,34,87,67,54,10,2])\n",
    "\n",
    "simpangan_rata_rata = simpangan_rata2(data)"
   ]
  },
  {
   "cell_type": "code",
   "execution_count": 28,
   "id": "f5ecffb2-4856-4dd4-86d2-53b7087dac10",
   "metadata": {},
   "outputs": [
    {
     "name": "stdout",
     "output_type": "stream",
     "text": [
      "Simpangan Rata-rata : 26.16027522790997\n"
     ]
    }
   ],
   "source": [
    "print(\"Simpangan Rata-rata :\", simpangan_rata_rata)"
   ]
  },
  {
   "cell_type": "code",
   "execution_count": null,
   "id": "58408175-f842-41a9-a78f-68cf423d617c",
   "metadata": {},
   "outputs": [],
   "source": []
  }
 ],
 "metadata": {
  "kernelspec": {
   "display_name": "Python 3 (ipykernel)",
   "language": "python",
   "name": "python3"
  },
  "language_info": {
   "codemirror_mode": {
    "name": "ipython",
    "version": 3
   },
   "file_extension": ".py",
   "mimetype": "text/x-python",
   "name": "python",
   "nbconvert_exporter": "python",
   "pygments_lexer": "ipython3",
   "version": "3.11.4"
  }
 },
 "nbformat": 4,
 "nbformat_minor": 5
}
